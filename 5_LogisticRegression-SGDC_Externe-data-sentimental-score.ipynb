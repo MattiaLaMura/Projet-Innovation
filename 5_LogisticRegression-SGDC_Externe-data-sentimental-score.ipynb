{
 "cells": [
  {
   "cell_type": "code",
   "execution_count": null,
   "metadata": {},
   "outputs": [],
   "source": [
    "import pandas as pd\n",
    "from sklearn.linear_model import SGDClassifier\n",
    "from sklearn.linear_model import LogisticRegression\n",
    "from sklearn.feature_extraction.text import TfidfVectorizer, CountVectorizer\n",
    "from sklearn.metrics import accuracy_score\n",
    "from nltk.corpus import stopwords\n",
    "from sklearn.compose import ColumnTransformer\n",
    "from sklearn.pipeline import make_pipeline\n",
    "from sklearn.preprocessing import OneHotEncoder\n",
    "from sklearn.preprocessing import OrdinalEncoder\n",
    "from sklearn.preprocessing import StandardScaler\n",
    "from sklearn.preprocessing import MinMaxScaler\n",
    "import numpy as np\n",
    "import pickle"
   ]
  },
  {
   "cell_type": "code",
   "execution_count": null,
   "metadata": {},
   "outputs": [],
   "source": [
    "train = pd.read_csv(\"./data/final/train.csv\")\n",
    "dev = pd.read_csv(\"./data/final/dev.csv\")"
   ]
  },
  {
   "cell_type": "code",
   "execution_count": null,
   "metadata": {},
   "outputs": [],
   "source": [
    "allocine_infos = pd.read_csv(\"./data/externe/allocine_movies.csv\", sep=',')\n",
    "\n",
    "temp = train.merge(right=allocine_infos, right_on='id', left_on='movie', how='left')\n",
    "temp_train = temp.drop(['id','press_rating','number_of_press_rating','spec_rating','number_of_spec_rating'], axis=1)\n",
    "temp_train = temp_train.dropna()\n",
    "\n",
    "temp_dev = dev.merge(right=allocine_infos, right_on='id', left_on='movie', how='left')\n",
    "temp_dev = temp_dev.drop(['id','press_rating','number_of_press_rating','spec_rating','number_of_spec_rating'], axis=1)\n",
    "temp_dev = temp_dev.dropna()"
   ]
  },
  {
   "cell_type": "code",
   "execution_count": null,
   "metadata": {},
   "outputs": [],
   "source": [
    "temp_train[\"release_year\"] = temp_train[\"release_date\"].apply(lambda x: x.split('-')[0])\n",
    "temp_train[\"release_month\"] = temp_train[\"release_date\"].apply(lambda x: x.split('-')[1])\n",
    "temp_dev[\"release_year\"] = temp_dev[\"release_date\"].apply(lambda x: x.split('-')[0])\n",
    "temp_dev[\"release_month\"] = temp_dev[\"release_date\"].apply(lambda x: x.split('-')[1])"
   ]
  },
  {
   "cell_type": "code",
   "execution_count": null,
   "metadata": {},
   "outputs": [],
   "source": [
    "tfidf = TfidfVectorizer(\n",
    "    analyzer = 'word',\n",
    "    lowercase = False,\n",
    "    ngram_range = (1,2)\n",
    ")\n",
    "\n",
    "tfidf2 = TfidfVectorizer(\n",
    "    stop_words = stopwords.words(\"french\"),\n",
    "    analyzer = 'word',\n",
    "    lowercase = True,\n",
    "    ngram_range = (1,2)\n",
    ")\n",
    "\n",
    "cvec = CountVectorizer(\n",
    "    analyzer = 'word',\n",
    "    lowercase = False,\n",
    "    ngram_range = (1,3)\n",
    ")\n",
    "\n",
    "preprocessor = ColumnTransformer(transformers=[\n",
    "    ('tfidf1', cvec, \"commentaire_clean\"),\n",
    "    # ('tfidf2', tfidf2, \"summary\"),\n",
    "    # ('countvect1', tfidf, \"title\"),\n",
    "    # ('countvect2', tfidf, \"genres\"),\n",
    "    # ('countvect3', tfidf, \"actors\"),\n",
    "    # (\"countvect4\", tfidf, \"directors\"),\n",
    "    # (\"scaler2\", StandardScaler(), [\"duration\"]),\n",
    "    # (\"scaler21\", StandardScaler(), [\"release_year\"]),\n",
    "    # (\"scaler22\", StandardScaler(), [\"release_month\"]),\n",
    "    # (\"scaler3\", OneHotEncoder(handle_unknown = 'ignore'), [\"nationality\"]),\n",
    "    (\"scaler4\", MinMaxScaler(), [\"sentimental_score\"]),\n",
    "])"
   ]
  },
  {
   "cell_type": "code",
   "execution_count": null,
   "metadata": {},
   "outputs": [],
   "source": [
    "model = make_pipeline(preprocessor, SGDClassifier(loss = \"hinge\", penalty = \"l2\"))\n",
    "model.fit(temp_train, temp_train[\"note\"].astype(\"string\"))"
   ]
  },
  {
   "cell_type": "code",
   "execution_count": null,
   "metadata": {},
   "outputs": [],
   "source": [
    "y_pred = model.predict(temp_dev)\n",
    "print(accuracy_score(temp_dev[\"note\"].astype(\"string\"),y_pred))"
   ]
  },
  {
   "cell_type": "code",
   "execution_count": null,
   "metadata": {},
   "outputs": [],
   "source": [
    "preprocessor.transformers[1][1].weight = 2\n",
    "logistic_regression = LogisticRegression(penalty='l2', C=0.1, solver='sag', max_iter=500)\n",
    "model2 = make_pipeline(preprocessor, logistic_regression)\n",
    "model2.fit(temp_train, temp_train[\"note\"].astype(\"string\"))"
   ]
  },
  {
   "cell_type": "code",
   "execution_count": null,
   "metadata": {},
   "outputs": [],
   "source": [
    "y_pred = model2.predict(temp_dev)\n",
    "print(accuracy_score(temp_dev[\"note\"].astype(\"string\"),y_pred))"
   ]
  },
  {
   "cell_type": "code",
   "execution_count": null,
   "metadata": {},
   "outputs": [],
   "source": []
  },
  {
   "cell_type": "code",
   "execution_count": null,
   "metadata": {},
   "outputs": [],
   "source": [
    "# Save Models\n",
    "pickle.dump(model, open(\"SGDClassifier_com1-3_sentiscore.pickle\", \"wb\"))\n",
    "pickle.dump(model2, open(\"LogisticRegression_com1-3_sentiscore.pickle\", \"wb\"))"
   ]
  },
  {
   "cell_type": "code",
   "execution_count": null,
   "metadata": {},
   "outputs": [],
   "source": [
    "# Load and test Model\n",
    "\n",
    "test_model = pickle.load(open(\"LogisticRegression_com1-3_sentiscore.pickle\", \"rb\"))\n",
    "test_model2 = pickle.load(open(\"SGDClassifier_com1-3_sentiscore.pickle\", \"rb\"))\n",
    "y_pred = test_model.predict(temp_dev)\n",
    "print(accuracy_score(temp_dev[\"note\"].astype(\"string\"),y_pred))\n",
    "y_pred = test_model2.predict(temp_dev)\n",
    "print(accuracy_score(temp_dev[\"note\"].astype(\"string\"),y_pred))"
   ]
  }
 ],
 "metadata": {
  "kernelspec": {
   "display_name": "Python 3",
   "language": "python",
   "name": "python3"
  },
  "language_info": {
   "codemirror_mode": {
    "name": "ipython",
    "version": 3
   },
   "file_extension": ".py",
   "mimetype": "text/x-python",
   "name": "python",
   "nbconvert_exporter": "python",
   "pygments_lexer": "ipython3",
   "version": "3.10.8 (main, Oct 21 2022, 22:22:30) [Clang 14.0.0 (clang-1400.0.29.202)]"
  },
  "orig_nbformat": 4,
  "vscode": {
   "interpreter": {
    "hash": "b0fa6594d8f4cbf19f97940f81e996739fb7646882a419484c72d19e05852a7e"
   }
  }
 },
 "nbformat": 4,
 "nbformat_minor": 2
}
