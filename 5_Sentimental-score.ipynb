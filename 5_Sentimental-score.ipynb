{
 "cells": [
  {
   "cell_type": "code",
   "execution_count": null,
   "metadata": {},
   "outputs": [],
   "source": [
    "import pandas as pd"
   ]
  },
  {
   "cell_type": "code",
   "execution_count": null,
   "metadata": {},
   "outputs": [],
   "source": [
    "lexique_sent = pd.read_csv('data/externe/lexique_sentimental.csv')\n",
    "train = pd.read_csv(\"./data/current/train.csv\")\n",
    "dev = pd.read_csv(\"./data/current/dev.csv\")\n",
    "test = pd.read_csv(\"./data/current/test.csv\")"
   ]
  },
  {
   "cell_type": "code",
   "execution_count": null,
   "metadata": {},
   "outputs": [],
   "source": [
    "lex = lexique_sent['word'].values.tolist()\n",
    "# Réaliser cela aussi pour dev et pour test\n",
    "lexique = train['lemmatized'].apply(lambda x: [lexique_sent.loc[lexique_sent['word'] == i, 'polarity'].iloc[0] if i in lex else None for i in str(x).split()])\n",
    "a = []\n",
    "for i in lexique:\n",
    "    if i is not None:\n",
    "        t = 0\n",
    "        x = 0\n",
    "        for j in i:\n",
    "            if j is not None:\n",
    "                t += j\n",
    "                x += 1\n",
    "        if x != 0:\n",
    "            a.append(t/x)\n",
    "        else:\n",
    "            a.append(None)\n",
    "    else:\n",
    "        a.append(None)\n",
    "print(a)"
   ]
  },
  {
   "cell_type": "code",
   "execution_count": null,
   "metadata": {},
   "outputs": [],
   "source": [
    "train['lexique_sentimetal'] = a\n",
    "train.to_csv('data/final/train.csv')"
   ]
  }
 ],
 "metadata": {
  "kernelspec": {
   "display_name": "Python 3",
   "language": "python",
   "name": "python3"
  },
  "language_info": {
   "name": "python",
   "version": "3.10.8 (main, Oct 21 2022, 22:22:30) [Clang 14.0.0 (clang-1400.0.29.202)]"
  },
  "orig_nbformat": 4,
  "vscode": {
   "interpreter": {
    "hash": "b0fa6594d8f4cbf19f97940f81e996739fb7646882a419484c72d19e05852a7e"
   }
  }
 },
 "nbformat": 4,
 "nbformat_minor": 2
}
