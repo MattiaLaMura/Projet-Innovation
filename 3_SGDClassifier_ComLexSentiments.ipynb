{
 "cells": [
  {
   "cell_type": "markdown",
   "metadata": {},
   "source": [
    "<h1>Imports</h1>"
   ]
  },
  {
   "cell_type": "code",
   "execution_count": null,
   "metadata": {},
   "outputs": [],
   "source": [
    "from sklearn.linear_model import SGDClassifier\n",
    "from sklearn.feature_extraction.text import TfidfVectorizer, CountVectorizer\n",
    "from sklearn.metrics import accuracy_score, precision_score, recall_score\n",
    "import pandas as pd\n",
    "from nltk.corpus import stopwords\n",
    "import emoji as em\n",
    "import numpy as np\n",
    "from sklearn.compose import ColumnTransformer\n",
    "from sklearn.preprocessing import OrdinalEncoder\n",
    "from sklearn.pipeline import make_pipeline\n",
    "from sklearn.preprocessing import OneHotEncoder"
   ]
  },
  {
   "cell_type": "markdown",
   "metadata": {},
   "source": [
    "<h1>Import des données</h1>"
   ]
  },
  {
   "cell_type": "code",
   "execution_count": null,
   "metadata": {},
   "outputs": [],
   "source": [
    "data_train = pd.read_xml(\"./data/apprentissage/train.xml\")\n",
    "data_train = data_train.dropna()\n",
    "\n",
    "data_dev = pd.read_xml(\"./data/apprentissage/dev.xml\")\n",
    "data_dev = data_dev.dropna()\n",
    "\n",
    "data_test = pd.read_xml(\"./data/test/test.xml\")\n",
    "data_test = data_test.dropna()"
   ]
  },
  {
   "attachments": {},
   "cell_type": "markdown",
   "metadata": {},
   "source": [
    "<h1>Prédictions en prénant en compte le sentiment lié au léxique du commentaire</h1>"
   ]
  },
  {
   "cell_type": "code",
   "execution_count": null,
   "metadata": {},
   "outputs": [],
   "source": [
    "lexique = pd.read_csv(\"./data/externe/lexique_sentimental.csv\")\n",
    "lexique = dict(zip(lexique[\"word\"].to_list(), lexique[\"polarity\"].to_list()))\n",
    "lexique"
   ]
  },
  {
   "cell_type": "code",
   "execution_count": null,
   "metadata": {},
   "outputs": [],
   "source": [
    "temp = data_train\n",
    "temppp = {0: -1, 1: 1}\n",
    "\n",
    "def get_polarity(comment):\n",
    "    score = 0\n",
    "    found = False\n",
    "    keys = [i for i in lexique.keys() if i in comment]\n",
    "    if len(keys)>=1:\n",
    "        found = True\n",
    "        for i in keys:  \n",
    "            score += temppp[lexique[i]]\n",
    "        if score<0:\n",
    "            return \"negative\"\n",
    "        elif score>0:\n",
    "            return \"positive\"\n",
    "        else:\n",
    "            return \"neutral\"\n",
    "    else:\n",
    "        return \"not data\"\n",
    "\n",
    "temp[\"lexique\"] = temp[\"commentaire\"].apply(lambda x: get_polarity(x))"
   ]
  },
  {
   "cell_type": "code",
   "execution_count": null,
   "metadata": {},
   "outputs": [],
   "source": [
    "from sklearn.preprocessing import OneHotEncoder\n",
    "\n",
    "tfidf = TfidfVectorizer(\n",
    "    stop_words = stopwords.words(\"french\") + stopwords.words(\"english\"),\n",
    "    analyzer = 'word',\n",
    "    lowercase = True,\n",
    "    ngram_range = (1,2)\n",
    ")\n",
    "preprocessor = ColumnTransformer(transformers=[\n",
    "                ('tfidf', tfidf, \"commentaire\"),\n",
    "                (\"scaler\", OneHotEncoder(), ['emoticon'])\n",
    "            ])\n",
    "model = make_pipeline(preprocessor, SGDClassifier(loss = \"hinge\", penalty = \"l2\"))\n",
    "model.fit(temp, temp[\"note\"])"
   ]
  },
  {
   "cell_type": "code",
   "execution_count": null,
   "metadata": {},
   "outputs": [],
   "source": [
    "y_pred = model.predict(temp2)\n",
    "accuracy_score(data_dev[\"note\"], y_pred)"
   ]
  }
 ],
 "metadata": {
  "kernelspec": {
   "display_name": "Python 3.10.8 64-bit",
   "language": "python",
   "name": "python3"
  },
  "language_info": {
   "codemirror_mode": {
    "name": "ipython",
    "version": 3
   },
   "file_extension": ".py",
   "mimetype": "text/x-python",
   "name": "python",
   "nbconvert_exporter": "python",
   "pygments_lexer": "ipython3",
   "version": "3.10.8 (main, Oct 21 2022, 22:22:30) [Clang 14.0.0 (clang-1400.0.29.202)]"
  },
  "orig_nbformat": 4,
  "vscode": {
   "interpreter": {
    "hash": "b0fa6594d8f4cbf19f97940f81e996739fb7646882a419484c72d19e05852a7e"
   }
  }
 },
 "nbformat": 4,
 "nbformat_minor": 2
}
