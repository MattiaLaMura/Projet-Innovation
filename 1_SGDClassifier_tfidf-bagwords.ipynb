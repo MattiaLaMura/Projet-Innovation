{
 "cells": [
  {
   "cell_type": "markdown",
   "metadata": {},
   "source": [
    "<h1>Imports</h1>"
   ]
  },
  {
   "cell_type": "code",
   "execution_count": null,
   "metadata": {},
   "outputs": [],
   "source": [
    "from sklearn.linear_model import SGDClassifier\n",
    "from sklearn.feature_extraction.text import TfidfVectorizer, CountVectorizer\n",
    "from sklearn.metrics import accuracy_score, precision_score, recall_score\n",
    "import pandas as pd\n",
    "from nltk.corpus import stopwords\n",
    "import emoji as em"
   ]
  },
  {
   "cell_type": "markdown",
   "metadata": {},
   "source": [
    "<h1>Import des données</h1>"
   ]
  },
  {
   "cell_type": "code",
   "execution_count": null,
   "metadata": {},
   "outputs": [],
   "source": [
    "data_train = pd.read_xml(\"./data/apprentissage/train.xml\")\n",
    "data_train = data_train.dropna()\n",
    "\n",
    "data_dev = pd.read_xml(\"./data/apprentissage/dev.xml\")\n",
    "data_dev = data_dev.dropna()\n",
    "\n",
    "data_test = pd.read_xml(\"./data/test/test.xml\")\n",
    "data_test = data_test.dropna()"
   ]
  },
  {
   "cell_type": "markdown",
   "metadata": {},
   "source": [
    "<h1>Fonction de vectorisation et prédiction</h1>"
   ]
  },
  {
   "cell_type": "code",
   "execution_count": null,
   "metadata": {},
   "outputs": [],
   "source": [
    "def run_SGDClassifier(train_x_data, y_train, dev_x_data, action, ngram):\n",
    "    if action == \"tfidf\":\n",
    "        tfidf = TfidfVectorizer(\n",
    "            stop_words = stopwords.words(\"french\"),\n",
    "            analyzer = 'word',\n",
    "            lowercase = True,\n",
    "            ngram_range = ngram\n",
    "        )\n",
    "\n",
    "        X_train = tfidf.fit_transform(train_x_data)\n",
    "        X_dev = tfidf.transform(dev_x_data)\n",
    "        \n",
    "    elif action == \"cvec\":\n",
    "        cvec = CountVectorizer(\n",
    "            stop_words = stopwords.words(\"french\"),\n",
    "            analyzer = 'word',\n",
    "            lowercase = True,\n",
    "            ngram_range = ngram\n",
    "        )\n",
    "    \n",
    "        X_train = cvec.fit_transform(train_x_data)\n",
    "        X_dev = cvec.transform(dev_x_data)\n",
    "        \n",
    "    \n",
    "    clf = SGDClassifier(loss = \"hinge\", penalty = \"l2\")\n",
    "    clf.fit(X_train, y_train)\n",
    "    y_pred = clf.predict(X_dev)\n",
    "    \n",
    "    return y_pred"
   ]
  },
  {
   "cell_type": "markdown",
   "metadata": {},
   "source": [
    "<h1>Prédictions avec données normales. X = [commentaires]</h1>"
   ]
  },
  {
   "cell_type": "code",
   "execution_count": null,
   "metadata": {},
   "outputs": [],
   "source": [
    "y_pred = run_SGDClassifier(data_train[\"commentaire\"], data_train[\"note\"], data_dev[\"commentaire\"], \"tfidf\", (1,1))\n",
    "accuracy_score(data_dev[\"note\"], y_pred)"
   ]
  },
  {
   "cell_type": "code",
   "execution_count": null,
   "metadata": {},
   "outputs": [],
   "source": [
    "y_pred = run_SGDClassifier(data_train[\"commentaire\"], data_train[\"note\"], data_dev[\"commentaire\"], \"tfidf\", (1,2))\n",
    "accuracy_score(data_dev[\"note\"], y_pred)"
   ]
  },
  {
   "cell_type": "code",
   "execution_count": null,
   "metadata": {},
   "outputs": [],
   "source": [
    "y_pred = run_SGDClassifier(data_train[\"commentaire\"], data_train[\"note\"], data_dev[\"commentaire\"], \"tfidf\", (2,2))\n",
    "accuracy_score(data_dev[\"note\"], y_pred)"
   ]
  },
  {
   "cell_type": "code",
   "execution_count": null,
   "metadata": {},
   "outputs": [],
   "source": [
    "y_pred = run_SGDClassifier(data_train[\"commentaire\"], data_train[\"note\"], data_dev[\"commentaire\"], \"cvec\", (1,1))\n",
    "accuracy_score(data_dev[\"note\"], y_pred)"
   ]
  },
  {
   "cell_type": "code",
   "execution_count": null,
   "metadata": {},
   "outputs": [],
   "source": [
    "y_pred = run_SGDClassifier(data_train[\"commentaire\"], data_train[\"note\"], data_dev[\"commentaire\"], \"cvec\", (1,2))\n",
    "print(accuracy_score(data_dev[\"note\"], y_pred))"
   ]
  },
  {
   "cell_type": "code",
   "execution_count": null,
   "metadata": {},
   "outputs": [],
   "source": [
    "# On enregistre les prédictions pour le meilleur modele pour les envoyer sur la plateforme d'évaluation\n",
    "\n",
    "# y_pred = run_SGDClassifier(data_train[\"commentaire\"], data_train[\"note\"], data_test[\"commentaire\"], \"cvec\", (1,2))\n",
    "\n",
    "# file = pd.DataFrame()\n",
    "# file[\"review_id\"]=data_test[\"review_id\"]\n",
    "# file[\"note\"]=y_pred\n",
    "# file = pd.concat([file, pd.DataFrame.from_records([{\"review_id\": \"review_27303387\", \"note\" : \"2,0\"}])])\n",
    "# file = file.sort_values(by=[\"review_id\"])\n",
    "# file.to_csv(\"./resultats.txt\", header=None, index=None, sep=' ', mode='w')"
   ]
  },
  {
   "cell_type": "code",
   "execution_count": null,
   "metadata": {},
   "outputs": [],
   "source": [
    "y_pred = run_SGDClassifier(data_train[\"commentaire\"], data_train[\"note\"], data_dev[\"commentaire\"], \"cvec\", (2,2))\n",
    "accuracy_score(data_dev[\"note\"], y_pred)"
   ]
  },
  {
   "attachments": {},
   "cell_type": "markdown",
   "metadata": {},
   "source": [
    "<h1>Prédictions avec lemmatisation. X = [commentaires]</h1>"
   ]
  },
  {
   "cell_type": "code",
   "execution_count": null,
   "metadata": {},
   "outputs": [],
   "source": [
    "lemmatized = pd.read_csv(\"./data/processed/lemmatized.csv\")\n",
    "lemmatized = lemmatized.dropna()"
   ]
  },
  {
   "cell_type": "code",
   "execution_count": null,
   "metadata": {},
   "outputs": [],
   "source": [
    "y_pred = run_SGDClassifier(lemmatized[\"lemmatized\"], data_train[\"note\"] , data_dev[\"commentaire\"], \"tfidf\", (1,2))\n",
    "accuracy_score(data_dev[\"note\"], y_pred)"
   ]
  }
 ],
 "metadata": {
  "kernelspec": {
   "display_name": "Python 3.10.8 64-bit",
   "language": "python",
   "name": "python3"
  },
  "language_info": {
   "codemirror_mode": {
    "name": "ipython",
    "version": 3
   },
   "file_extension": ".py",
   "mimetype": "text/x-python",
   "name": "python",
   "nbconvert_exporter": "python",
   "pygments_lexer": "ipython3",
   "version": "3.10.8 (main, Oct 21 2022, 22:22:30) [Clang 14.0.0 (clang-1400.0.29.202)]"
  },
  "orig_nbformat": 4,
  "vscode": {
   "interpreter": {
    "hash": "b0fa6594d8f4cbf19f97940f81e996739fb7646882a419484c72d19e05852a7e"
   }
  }
 },
 "nbformat": 4,
 "nbformat_minor": 2
}
