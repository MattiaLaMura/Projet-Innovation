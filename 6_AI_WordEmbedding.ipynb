{
 "cells": [
  {
   "cell_type": "code",
   "execution_count": null,
   "metadata": {},
   "outputs": [],
   "source": [
    "from transformers import CamembertTokenizer, CamembertModel\n",
    "import pandas as pd\n",
    "import torch \n",
    "import numpy\n",
    "from sklearn.metrics import accuracy_score, precision_score, recall_score\n",
    "from sklearn.ensemble import RandomForestClassifier\n",
    "from sklearn.linear_model import SGDClassifier"
   ]
  },
  {
   "attachments": {},
   "cell_type": "markdown",
   "metadata": {},
   "source": [
    "<h1>Merge all train arrays</h1>"
   ]
  },
  {
   "cell_type": "code",
   "execution_count": null,
   "metadata": {},
   "outputs": [],
   "source": [
    "train = pd.read_csv(\"./data/final/train.csv\")\n",
    "\n",
    "# Charger le tokenizer CamemBERT et le modèle CamemBERT\n",
    "tokenizer = CamembertTokenizer.from_pretrained('camembert-base')\n",
    "model = CamembertModel.from_pretrained('camembert-base')\n",
    "\n",
    "j = 9999\n",
    "while j < 259999:\n",
    "    # Définissez vos commentaires en tant que liste de chaînes\n",
    "    comments = train[\"lemmatized\"][j:j+1].to_list()\n",
    "\n",
    "    # Tokenizez vos commentaires en utilisant le tokenizer CamemBERT\n",
    "    input_ids = [tokenizer.encode(comment, return_tensors='pt', max_length=512) for comment in comments]\n",
    "\n",
    "    # Obtenez les vecteurs de mots pour chaque commentaire en utilisant le modèle CamemBERT\n",
    "    vectors = [model(input_id)[0][0][0].detach().numpy() for input_id in input_ids]\n",
    "\n",
    "    numpy.save(\"./vector\"+str(j+2), vectors)\n",
    "    \n",
    "    j = j + 10000\n",
    "    print(j)"
   ]
  },
  {
   "cell_type": "code",
   "execution_count": null,
   "metadata": {},
   "outputs": [],
   "source": [
    "import os\n",
    "\n",
    "files = os.listdir(\"./data/vectors/train/\")\n",
    "arrays = []\n",
    "for file in files:\n",
    "    arrays.append(numpy.load(\"data/vectors/train/\"+file))\n",
    "result = numpy.vstack(arrays)"
   ]
  },
  {
   "attachments": {},
   "cell_type": "markdown",
   "metadata": {},
   "source": [
    "<h1>Test with 250000 comments</h1>"
   ]
  },
  {
   "cell_type": "code",
   "execution_count": null,
   "metadata": {},
   "outputs": [],
   "source": [
    "train = pd.read_csv(\"./data/final/train.csv\")\n",
    "dev = pd.read_csv(\"./data/final/dev.csv\")"
   ]
  },
  {
   "cell_type": "code",
   "execution_count": null,
   "metadata": {},
   "outputs": [],
   "source": [
    "train_vectors = numpy.load(\"./data/vectors/train/train_250000.npy\")\n",
    "train_vectors = numpy.column_stack((train_vectors, train[\"sentimental_score\"][0:250000].values))\n",
    "numpy.save(\"./data/vectors/train_sentiment-250000\",train_vectors)\n",
    "\n",
    "dev_vectors = numpy.load(\"./data/vectors/dev/dev.npy\")\n",
    "dev_vectors = numpy.column_stack((dev_vectors, dev[\"sentimental_score\"].values))\n",
    "numpy.save(\"./data/vectors/dev_sentiment\",dev_vectors)\n",
    "\n",
    "train_y = train[\"note\"][0:250000].astype(\"string\")\n",
    "dev_y = dev[\"note\"].astype(\"string\")"
   ]
  },
  {
   "cell_type": "code",
   "execution_count": null,
   "metadata": {},
   "outputs": [],
   "source": [
    "clf = SGDClassifier(loss = \"hinge\", penalty = \"l2\")\n",
    "clf.fit(train_vectors, train_y)"
   ]
  },
  {
   "cell_type": "code",
   "execution_count": null,
   "metadata": {},
   "outputs": [],
   "source": [
    "y_pred = clf.predict(dev_vectors)\n",
    "print(accuracy_score(dev_y,y_pred))"
   ]
  }
 ],
 "metadata": {
  "kernelspec": {
   "display_name": "Python 3",
   "language": "python",
   "name": "python3"
  },
  "language_info": {
   "codemirror_mode": {
    "name": "ipython",
    "version": 3
   },
   "file_extension": ".py",
   "mimetype": "text/x-python",
   "name": "python",
   "nbconvert_exporter": "python",
   "pygments_lexer": "ipython3",
   "version": "3.10.8 (main, Oct 21 2022, 22:22:30) [Clang 14.0.0 (clang-1400.0.29.202)]"
  },
  "orig_nbformat": 4,
  "vscode": {
   "interpreter": {
    "hash": "b0fa6594d8f4cbf19f97940f81e996739fb7646882a419484c72d19e05852a7e"
   }
  }
 },
 "nbformat": 4,
 "nbformat_minor": 2
}
