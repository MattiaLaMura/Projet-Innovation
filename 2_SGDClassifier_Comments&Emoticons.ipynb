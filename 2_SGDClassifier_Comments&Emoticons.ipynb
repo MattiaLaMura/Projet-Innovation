{
 "cells": [
  {
   "cell_type": "markdown",
   "metadata": {},
   "source": [
    "<h1>Imports</h1>"
   ]
  },
  {
   "cell_type": "code",
   "execution_count": null,
   "metadata": {},
   "outputs": [],
   "source": [
    "from sklearn.linear_model import SGDClassifier\n",
    "from sklearn.feature_extraction.text import TfidfVectorizer, CountVectorizer\n",
    "from sklearn.metrics import accuracy_score, precision_score, recall_score\n",
    "import pandas as pd\n",
    "from nltk.corpus import stopwords\n",
    "import emoji as em\n",
    "import numpy as np\n",
    "from sklearn.compose import ColumnTransformer\n",
    "from sklearn.preprocessing import OrdinalEncoder\n",
    "from sklearn.pipeline import make_pipeline\n",
    "from sklearn.preprocessing import OneHotEncoder"
   ]
  },
  {
   "cell_type": "markdown",
   "metadata": {},
   "source": [
    "<h1>Import des données</h1>"
   ]
  },
  {
   "cell_type": "code",
   "execution_count": null,
   "metadata": {},
   "outputs": [],
   "source": [
    "data_train = pd.read_xml(\"./data/apprentissage/train.xml\")\n",
    "data_train = data_train.dropna()\n",
    "\n",
    "data_dev = pd.read_xml(\"./data/apprentissage/dev.xml\")\n",
    "data_dev = data_dev.dropna()\n",
    "\n",
    "data_test = pd.read_xml(\"./data/test/test.xml\")\n",
    "data_test = data_test.dropna()"
   ]
  },
  {
   "attachments": {},
   "cell_type": "markdown",
   "metadata": {},
   "source": [
    "<h1>Prédictions en prénant en compte les emoticons : Approche 1</h1>"
   ]
  },
  {
   "cell_type": "code",
   "execution_count": null,
   "metadata": {},
   "outputs": [],
   "source": [
    "emoticons = pd.read_csv(\"./data/processed/emoticons.csv\", sep=' ')\n",
    "\n",
    "def get_near_class(note):\n",
    "    if note<2.0:\n",
    "        return \"negative\"\n",
    "    elif note<=3.0:\n",
    "        return \"neutral\"\n",
    "    else:\n",
    "        return \"positive\"\n",
    "\n",
    "emoticons[\"near_class\"] = emoticons[\"note_mean\"].apply(lambda x: get_near_class(x))\n",
    "emoticons = emoticons.sort_values(by=[\"count\"], ascending=False)\n",
    "print(emoticons)"
   ]
  },
  {
   "cell_type": "code",
   "execution_count": null,
   "metadata": {},
   "outputs": [],
   "source": [
    "temp = data_train\n",
    "temp2 = data_dev\n",
    "\n",
    "tempp = {\"negative\": -1, \"neutral\": 0, \"positive\": 1}\n",
    "\n",
    "def get_emoticon_score(text):\n",
    "    score = 0\n",
    "    found = False\n",
    "    for i in text:\n",
    "        if i in em.EMOJI_DATA:\n",
    "            isin = emoticons[emoticons[\"emoji\"]==i]\n",
    "            if len(isin)==1:\n",
    "                found = True\n",
    "                score = score + tempp[isin[\"near_class\"].to_list()[0]]\n",
    "    if not found:\n",
    "        return \"not data\"\n",
    "    else:\n",
    "        if score>=1:\n",
    "            return \"positive\"\n",
    "        elif score==0:\n",
    "            return \"neutral\"\n",
    "        else:\n",
    "            return \"negative\"\n",
    "            \n",
    "temp[\"emoticon\"] = temp[\"commentaire\"].apply(lambda x: get_emoticon_score(x))\n",
    "temp2[\"emoticon\"] = temp2[\"commentaire\"].apply(lambda x: get_emoticon_score(x))"
   ]
  },
  {
   "cell_type": "code",
   "execution_count": null,
   "metadata": {},
   "outputs": [],
   "source": [
    "temp[temp[\"emoticon\"].str.contains(\"not data\")==False]"
   ]
  },
  {
   "cell_type": "code",
   "execution_count": null,
   "metadata": {},
   "outputs": [],
   "source": [
    "from sklearn.preprocessing import OneHotEncoder\n",
    "\n",
    "tfidf = TfidfVectorizer(\n",
    "    stop_words = stopwords.words(\"french\") + stopwords.words(\"english\"),\n",
    "    analyzer = 'word',\n",
    "    lowercase = True,\n",
    "    ngram_range = (1,2)\n",
    ")\n",
    "preprocessor = ColumnTransformer(transformers=[\n",
    "                ('tfidf', tfidf, \"commentaire\"),\n",
    "                (\"scaler\", OneHotEncoder(), ['emoticon'])\n",
    "            ])\n",
    "model = make_pipeline(preprocessor, SGDClassifier(loss = \"hinge\", penalty = \"l2\"))\n",
    "model.fit(temp, temp[\"note\"])"
   ]
  },
  {
   "cell_type": "code",
   "execution_count": null,
   "metadata": {},
   "outputs": [],
   "source": [
    "y_pred = model.predict(temp2)\n",
    "accuracy_score(data_dev[\"note\"], y_pred)"
   ]
  },
  {
   "attachments": {},
   "cell_type": "markdown",
   "metadata": {},
   "source": [
    "<h1>Prédictions en prénant en compte les emoticons : Approche 2</h1>"
   ]
  },
  {
   "cell_type": "code",
   "execution_count": null,
   "metadata": {},
   "outputs": [],
   "source": [
    "emoticons = pd.read_csv(\"./data/externe/emojisentiment.csv\", sep=',')\n",
    "maxxx = emoticons[[\"Negative\",\"Neutral\",\"Positive\"]].idxmax(axis=1).to_frame()\n",
    "maxxx[\"Emoji\"] = emoticons[\"Emoji\"]\n",
    "emoticons = maxxx.rename(columns={0: \"sentiment\", \"Emoji\": \"emoji\"})\n",
    "\n",
    "emoticons = dict(zip(emoticons[\"emoji\"].to_list(), emoticons[\"sentiment\"].to_list()))\n",
    "\n",
    "temp = data_train\n",
    "temp2 = data_dev\n",
    "\n",
    "tempp = {\"Negative\": -1, \"Neutral\": 0, \"Positive\": 1}\n",
    "\n",
    "def get_emoticon_score(text):\n",
    "    score = 0\n",
    "    found = False\n",
    "    for i in text:\n",
    "        if i in emoticons.keys():\n",
    "            found = True\n",
    "            score = score + tempp[emoticons[i]]\n",
    "    if not found:\n",
    "        return \"not data\"\n",
    "    else:\n",
    "        if score>=1:\n",
    "            return \"positive\"\n",
    "        elif score==0:\n",
    "            return \"neutral\"\n",
    "        else:\n",
    "            return \"negative\"\n",
    "    \n",
    "temp[\"emoticon\"] = temp[\"commentaire\"].apply(lambda x: get_emoticon_score(x))\n",
    "temp2[\"emoticon\"] = temp2[\"commentaire\"].apply(lambda x: get_emoticon_score(x))"
   ]
  },
  {
   "cell_type": "code",
   "execution_count": null,
   "metadata": {},
   "outputs": [],
   "source": [
    "temp[temp[\"emoticon\"].str.contains(\"not data\")==False]"
   ]
  },
  {
   "cell_type": "code",
   "execution_count": null,
   "metadata": {},
   "outputs": [],
   "source": [
    "tfidf = TfidfVectorizer(\n",
    "    stop_words = stopwords.words(\"french\"),\n",
    "    analyzer = 'word',\n",
    "    lowercase = True,\n",
    "    ngram_range = (1,2)\n",
    ")\n",
    "preprocessor = ColumnTransformer(transformers=[\n",
    "                ('tfidf', tfidf, \"commentaire\"),\n",
    "                (\"scaler\", OneHotEncoder(), ['emoticon'])\n",
    "            ])\n",
    "model = make_pipeline(preprocessor, SGDClassifier(loss=\"hinge\", penalty = \"l2\"))\n",
    "model.fit(temp, temp[\"note\"])"
   ]
  },
  {
   "cell_type": "code",
   "execution_count": null,
   "metadata": {},
   "outputs": [],
   "source": [
    "y_pred = model.predict(temp2)\n",
    "accuracy_score(data_dev[\"note\"], y_pred)"
   ]
  }
 ],
 "metadata": {
  "kernelspec": {
   "display_name": "Python 3.10.8 64-bit",
   "language": "python",
   "name": "python3"
  },
  "language_info": {
   "codemirror_mode": {
    "name": "ipython",
    "version": 3
   },
   "file_extension": ".py",
   "mimetype": "text/x-python",
   "name": "python",
   "nbconvert_exporter": "python",
   "pygments_lexer": "ipython3",
   "version": "3.10.8 (main, Oct 21 2022, 22:22:30) [Clang 14.0.0 (clang-1400.0.29.202)]"
  },
  "orig_nbformat": 4,
  "vscode": {
   "interpreter": {
    "hash": "b0fa6594d8f4cbf19f97940f81e996739fb7646882a419484c72d19e05852a7e"
   }
  }
 },
 "nbformat": 4,
 "nbformat_minor": 2
}
